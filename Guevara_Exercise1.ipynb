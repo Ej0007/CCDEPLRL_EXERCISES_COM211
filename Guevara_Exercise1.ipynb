{
  "nbformat": 4,
  "nbformat_minor": 0,
  "metadata": {
    "colab": {
      "provenance": [],
      "include_colab_link": true
    },
    "kernelspec": {
      "name": "python3",
      "display_name": "Python 3"
    }
  },
  "cells": [
    {
      "cell_type": "markdown",
      "metadata": {
        "id": "view-in-github",
        "colab_type": "text"
      },
      "source": [
        "<a href=\"https://colab.research.google.com/github/Ej0007/CCDEPLRL_EXERCISES_COM211/blob/main/Guevara_Exercise1.ipynb\" target=\"_parent\"><img src=\"https://colab.research.google.com/assets/colab-badge.svg\" alt=\"Open In Colab\"/></a>"
      ]
    },
    {
      "metadata": {
        "id": "tOoyQ70H00_s"
      },
      "cell_type": "markdown",
      "source": [
        "\n",
        "\n",
        "```\n",
        "# This is formatted as code\n",
        "```\n",
        "\n",
        "## Exercise 1\n",
        "In the course you learned how to do classification using Fashion MNIST, a data set containing items of clothing. There's another, similar dataset called MNIST which has items of handwriting -- the digits 0 through 9.\n",
        "\n",
        "Write an MNIST classifier that trains to 99% accuracy or above, and does it without a fixed number of epochs -- i.e. you should stop training once you reach that level of accuracy.\n",
        "\n",
        "Some notes:\n",
        "1. It should succeed in less than 10 epochs, so it is okay to change epochs to 10, but nothing larger\n",
        "2. When it reaches 99% or greater it should print out the string \"Reached 99% accuracy so cancelling training!\"\n",
        "3. If you add any additional variables, make sure you use the same names as the ones used in the class\n",
        "\n",
        "I've started the code for you below -- how would you finish it?"
      ]
    },
    {
      "metadata": {
        "id": "9rvXQGAA0ssC"
      },
      "cell_type": "code",
      "source": [
        "import tensorflow as tf\n",
        "mnist = tf.keras.datasets.mnist\n",
        "# YOUR CODE SHOULD START HERE\n",
        "class myCallback(tf.keras.callbacks.Callback):\n",
        "  def on_epoch_end(self, epoch, logs={}):\n",
        "    if(logs.get('loss')<0.03):\n",
        "      print(\"\\nReached 99% accuracy so cancelling training!\")\n",
        "      self.model.stop_training = True\n",
        "\n",
        "callbacks = myCallback()\n",
        "# YOUR CODE SHOULD END HERE"
      ],
      "execution_count": 1,
      "outputs": []
    },
    {
      "cell_type": "code",
      "source": [
        "(x_train, y_train),(x_test, y_test) = mnist.load_data()\n",
        "# YOUR CODE SHOULD START HERE\n",
        "x_train  = x_train / 255.0\n",
        "x_test = x_test / 255.0\n",
        "# YOUR CODE SHOULD END HERE"
      ],
      "metadata": {
        "id": "T8Hou2IYBeYD"
      },
      "execution_count": 2,
      "outputs": []
    },
    {
      "cell_type": "code",
      "source": [
        "model = tf.keras.models.Sequential([\n",
        "# YOUR CODE SHOULD START HERE\n",
        "tf.keras.layers.Flatten(), tf.keras.layers.Dense(128, activation=tf.nn.relu),\n",
        "tf.keras.layers.Dense(10, activation=tf.nn.softmax)\n",
        "# YOUR CODE SHOULD END HERE\n",
        "])"
      ],
      "metadata": {
        "id": "emRcp1_FBbFc"
      },
      "execution_count": 3,
      "outputs": []
    },
    {
      "cell_type": "code",
      "source": [
        "model.compile(optimizer='adam',\n",
        "              loss='sparse_categorical_crossentropy',\n",
        "              metrics=['accuracy'])\n",
        "# YOUR CODE SHOULD START HERE\n",
        "model.fit(x_train, y_train, epochs=7, callbacks=[callbacks])\n",
        "# YOUR CODE SHOULD END HERE"
      ],
      "metadata": {
        "id": "4nZ9QYNZBcbQ",
        "colab": {
          "base_uri": "https://localhost:8080/"
        },
        "outputId": "5251ef1f-999c-47f4-c861-ac2491fc24cb"
      },
      "execution_count": 4,
      "outputs": [
        {
          "output_type": "stream",
          "name": "stdout",
          "text": [
            "Epoch 1/7\n",
            "1875/1875 [==============================] - 28s 14ms/step - loss: 0.1857 - accuracy: 0.9444\n",
            "Epoch 2/7\n",
            "1875/1875 [==============================] - 22s 12ms/step - loss: 0.0741 - accuracy: 0.9771\n",
            "Epoch 3/7\n",
            "1875/1875 [==============================] - 23s 12ms/step - loss: 0.0480 - accuracy: 0.9848\n",
            "Epoch 4/7\n",
            "1875/1875 [==============================] - 23s 12ms/step - loss: 0.0354 - accuracy: 0.9889\n",
            "Epoch 5/7\n",
            "1871/1875 [============================>.] - ETA: 0s - loss: 0.0251 - accuracy: 0.9918\n",
            "Reached 99% accuracy so cancelling training!\n",
            "1875/1875 [==============================] - 23s 12ms/step - loss: 0.0251 - accuracy: 0.9917\n"
          ]
        },
        {
          "output_type": "execute_result",
          "data": {
            "text/plain": [
              "<keras.src.callbacks.History at 0x7e3ea929e230>"
            ]
          },
          "metadata": {},
          "execution_count": 4
        }
      ]
    }
  ]
}